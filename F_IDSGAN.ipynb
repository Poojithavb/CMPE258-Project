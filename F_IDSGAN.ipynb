{
  "nbformat": 4,
  "nbformat_minor": 0,
  "metadata": {
    "colab": {
      "name": "F-IDSGAN.ipynb",
      "provenance": [],
      "collapsed_sections": [],
      "machine_shape": "hm",
      "mount_file_id": "1dgshOPJWRGAg2Dhr99T9BbzpWxWKU934",
      "authorship_tag": "ABX9TyMJjGQui4xyImB+ucj87kNN",
      "include_colab_link": true
    },
    "kernelspec": {
      "name": "python3",
      "display_name": "Python 3"
    }
  },
  "cells": [
    {
      "cell_type": "markdown",
      "metadata": {
        "id": "view-in-github",
        "colab_type": "text"
      },
      "source": [
        "<a href=\"https://colab.research.google.com/github/Poojithavb/CMPE258-Project/blob/master/F_IDSGAN.ipynb\" target=\"_parent\"><img src=\"https://colab.research.google.com/assets/colab-badge.svg\" alt=\"Open In Colab\"/></a>"
      ]
    },
    {
      "cell_type": "code",
      "metadata": {
        "id": "KqFrcKU9l2n-",
        "colab_type": "code",
        "outputId": "3c888d6c-6cf2-48a9-847d-4c246e91af04",
        "colab": {
          "base_uri": "https://localhost:8080/",
          "height": 34
        }
      },
      "source": [
        "from google.colab import drive\n",
        "drive.mount('/content/drive')"
      ],
      "execution_count": 1,
      "outputs": [
        {
          "output_type": "stream",
          "text": [
            "Drive already mounted at /content/drive; to attempt to forcibly remount, call drive.mount(\"/content/drive\", force_remount=True).\n"
          ],
          "name": "stdout"
        }
      ]
    },
    {
      "cell_type": "code",
      "metadata": {
        "id": "QVSStAKhfVzi",
        "colab_type": "code",
        "colab": {}
      },
      "source": [
        "import warnings\n",
        "warnings.filterwarnings(\"ignore\") \n",
        "import sys\n",
        "import pandas as pd\n",
        "from glob import glob\n",
        "import os\n",
        "import numpy as np\n",
        "from sklearn.preprocessing import MinMaxScaler\n",
        "from sklearn.model_selection import train_test_split\n",
        "import tensorflow as tf\n",
        "from tensorflow.keras import layers\n",
        "import matplotlib.pyplot as plt\n",
        "from tensorflow.keras.constraints import Constraint\n",
        "import matplotlib.pyplot as plt\n",
        "from wordcloud import WordCloud, STOPWORDS\n",
        "import seaborn as sns"
      ],
      "execution_count": 0,
      "outputs": []
    },
    {
      "cell_type": "code",
      "metadata": {
        "id": "gT_GHH3EgKV0",
        "colab_type": "code",
        "colab": {}
      },
      "source": [
        "pwd = os.getcwd()\n",
        "path = pwd + '/drive/My Drive/MachineLearningCVE'\n",
        "dfs = []\n",
        "filenames = glob(path + \"/*.csv\")\n",
        "filenames.sort()\n",
        "for filename in filenames:\n",
        "    dfs.append(pd.read_csv(filename))\n",
        "    \n",
        "df = pd.concat(dfs, ignore_index=True)\n",
        "df['Flow Bytes/s'] = df['Flow Bytes/s'].astype(float)\n",
        "df[' Flow Packets/s'] = df[' Flow Packets/s'].astype(float)\n",
        "df = df.fillna(0)\n",
        "df = df.replace([np.inf, -np.inf], sys.maxsize)\n",
        "#print(\"Columns which have NaN or NULLS: \")\n",
        "#for col in df.columns:\n",
        "#    print('%s: %d' % (col, df[col].isna().sum()))\n",
        "substr = '�'\n",
        "df[' Label'] = df[' Label'].str.replace(substr, '-')\n",
        "y_labels = df[' Label']\n",
        "encoding = {\n",
        "        \" Label\": {\"BENIGN\": -1, \"FTP-Patator\": 1, \"SSH-Patator\": 1, \"DoS slowloris\": 1, \n",
        "                   \"DoS Slowhttptest\": 1, \"DoS Hulk\": 1, \"DoS GoldenEye\": 1, \"Heartbleed\": 1,\n",
        "                   \"Web Attack - Brute Force\" : 1, \"Web Attack - XSS\": 1,\n",
        "                   \"Web Attack - Sql Injection\": 1, \"Infiltration\" : 1, \"Bot\":1, \"DDoS\":1,\n",
        "                   \"PortScan\": 1}\n",
        "        }\n",
        "df.replace(encoding, inplace=True)"
      ],
      "execution_count": 0,
      "outputs": []
    },
    {
      "cell_type": "code",
      "metadata": {
        "id": "B7IoAtWThJDq",
        "colab_type": "code",
        "colab": {}
      },
      "source": [
        "full_data = df.drop(columns=[\n",
        "    \"Fwd Avg Bytes/Bulk\",              \n",
        "    \" Fwd Avg Packets/Bulk\",           \n",
        "    \" Fwd Avg Bulk Rate\",              \n",
        "    \" Bwd Avg Bytes/Bulk\",             \n",
        "    \" Bwd Avg Packets/Bulk\", \n",
        "    \"Bwd Avg Bulk Rate\", \n",
        "    \" Bwd PSH Flags\", \n",
        "    \" Bwd URG Flags\"])"
      ],
      "execution_count": 0,
      "outputs": []
    },
    {
      "cell_type": "code",
      "metadata": {
        "id": "maxQLtenVdyJ",
        "colab_type": "code",
        "outputId": "c79f71f4-2db0-4b44-82b7-e65df9ef6909",
        "colab": {
          "base_uri": "https://localhost:8080/",
          "height": 442
        }
      },
      "source": [
        "full_data.columns"
      ],
      "execution_count": 5,
      "outputs": [
        {
          "output_type": "execute_result",
          "data": {
            "text/plain": [
              "Index([' Destination Port', ' Flow Duration', ' Total Fwd Packets',\n",
              "       ' Total Backward Packets', 'Total Length of Fwd Packets',\n",
              "       ' Total Length of Bwd Packets', ' Fwd Packet Length Max',\n",
              "       ' Fwd Packet Length Min', ' Fwd Packet Length Mean',\n",
              "       ' Fwd Packet Length Std', 'Bwd Packet Length Max',\n",
              "       ' Bwd Packet Length Min', ' Bwd Packet Length Mean',\n",
              "       ' Bwd Packet Length Std', 'Flow Bytes/s', ' Flow Packets/s',\n",
              "       ' Flow IAT Mean', ' Flow IAT Std', ' Flow IAT Max', ' Flow IAT Min',\n",
              "       'Fwd IAT Total', ' Fwd IAT Mean', ' Fwd IAT Std', ' Fwd IAT Max',\n",
              "       ' Fwd IAT Min', 'Bwd IAT Total', ' Bwd IAT Mean', ' Bwd IAT Std',\n",
              "       ' Bwd IAT Max', ' Bwd IAT Min', 'Fwd PSH Flags', ' Fwd URG Flags',\n",
              "       ' Fwd Header Length', ' Bwd Header Length', 'Fwd Packets/s',\n",
              "       ' Bwd Packets/s', ' Min Packet Length', ' Max Packet Length',\n",
              "       ' Packet Length Mean', ' Packet Length Std', ' Packet Length Variance',\n",
              "       'FIN Flag Count', ' SYN Flag Count', ' RST Flag Count',\n",
              "       ' PSH Flag Count', ' ACK Flag Count', ' URG Flag Count',\n",
              "       ' CWE Flag Count', ' ECE Flag Count', ' Down/Up Ratio',\n",
              "       ' Average Packet Size', ' Avg Fwd Segment Size',\n",
              "       ' Avg Bwd Segment Size', ' Fwd Header Length.1', 'Subflow Fwd Packets',\n",
              "       ' Subflow Fwd Bytes', ' Subflow Bwd Packets', ' Subflow Bwd Bytes',\n",
              "       'Init_Win_bytes_forward', ' Init_Win_bytes_backward',\n",
              "       ' act_data_pkt_fwd', ' min_seg_size_forward', 'Active Mean',\n",
              "       ' Active Std', ' Active Max', ' Active Min', 'Idle Mean', ' Idle Std',\n",
              "       ' Idle Max', ' Idle Min', ' Label'],\n",
              "      dtype='object')"
            ]
          },
          "metadata": {
            "tags": []
          },
          "execution_count": 5
        }
      ]
    },
    {
      "cell_type": "code",
      "metadata": {
        "id": "tSU4fQ0thM5s",
        "colab_type": "code",
        "colab": {}
      },
      "source": [
        "functional_features = ['Idle Mean',\n",
        " ' Idle Std',\n",
        " ' Idle Min',\n",
        " ' Idle Max',\n",
        " ' Avg Bwd Segment Size',\n",
        " ' Average Packet Size',\n",
        " ' URG Flag Count',\n",
        " 'FIN Flag Count',\n",
        " ' Packet Length Variance',\n",
        " ' Packet Length Std',\n",
        " ' Packet Length Mean',\n",
        " ' Max Packet Length',\n",
        " ' Min Packet Length',\n",
        " ' Fwd IAT Max',\n",
        " ' Fwd IAT Std',\n",
        " ' Fwd IAT Mean',\n",
        " 'Fwd IAT Total',\n",
        " ' Flow IAT Max',\n",
        " ' Flow IAT Mean',\n",
        " ' Flow IAT Std',\n",
        " ' Bwd Packet Length Std',\n",
        " 'Bwd Packet Length Max',\n",
        " ' Bwd Packet Length Min',\n",
        " ' Bwd Packet Length Mean',\n",
        " ' Flow Duration']"
      ],
      "execution_count": 0,
      "outputs": []
    },
    {
      "cell_type": "code",
      "metadata": {
        "id": "WXLpyI41hSQL",
        "colab_type": "code",
        "colab": {}
      },
      "source": [
        "functional_features = np.array([col in functional_features for col in full_data.columns[:-1]], dtype=np.float64)\n",
        "nonFunctional_features = np.array([col not in functional_features for col in full_data.columns[:-1]], dtype=np.float64)"
      ],
      "execution_count": 0,
      "outputs": []
    },
    {
      "cell_type": "code",
      "metadata": {
        "id": "36n8GC_oemdH",
        "colab_type": "code",
        "colab": {
          "base_uri": "https://localhost:8080/",
          "height": 366
        },
        "outputId": "2c156c91-dd91-4e51-ceaa-6505614f393c"
      },
      "source": [
        "from wordcloud import WordCloud, STOPWORDS\n",
        "import seaborn as sns\n",
        "# Function to show the different attack cateegories present in the dataset\n",
        "\n",
        "stopwords = set(STOPWORDS)\n",
        "def show_wordcloud(data, title = None):\n",
        "\n",
        "    attack_catgs = data\n",
        "    attack_catgs = np.unique(y_labels)\n",
        "    text = \" \".join(str(item) for item in attack_catgs)\n",
        "    wordcloud = WordCloud(\n",
        "        background_color='white',\n",
        "        collocations=False,\n",
        "        stopwords=stopwords,\n",
        "        max_words=200,\n",
        "        max_font_size=40, \n",
        "        scale=3,\n",
        "        random_state=1 # chosen at random by flipping a coin; it was heads\n",
        "    ).generate(text)\n",
        " \n",
        "    fig = plt.figure(1, figsize=(12, 12))\n",
        "    plt.axis('off')\n",
        "    if title: \n",
        "        fig.suptitle(title, fontsize=20)\n",
        "        fig.subplots_adjust(top=2.3)\n",
        "\n",
        "    plt.imshow(wordcloud)\n",
        "    plt.show()\n",
        "    \n",
        "show_wordcloud(df)"
      ],
      "execution_count": 8,
      "outputs": [
        {
          "output_type": "display_data",
          "data": {
            "image/png": "[encoded data removed]",
            "text/plain": [
              "<Figure size 864x864 with 1 Axes>"
            ]
          },
          "metadata": {
            "tags": [],
            "needs_background": "light"
          }
        }
      ]
    },
    {
      "cell_type": "code",
      "metadata": {
        "id": "k0Bj3ptwenX_",
        "colab_type": "code",
        "colab": {
          "base_uri": "https://localhost:8080/",
          "height": 379
        },
        "outputId": "6633037b-1516-4d5e-fafb-add605a2233b"
      },
      "source": [
        "# Plot to show the distribution of all attack categories\n",
        "\n",
        "def plot_attack_category(data):\n",
        "    sns.set(rc={'figure.figsize':(35,10),\"font.size\":50,\"axes.titlesize\":40,\"axes.labelsize\":15},style=\"white\")\n",
        "    catg_plot = sns.countplot(y_labels,data = data)\n",
        "    for p in catg_plot.patches:\n",
        "        height = p.get_height()\n",
        "        catg_plot.text(p.get_x()+p.get_width()/2., height + 0.1,height ,ha=\"center\",fontsize = 15)\n",
        "plot_attack_category(df)"
      ],
      "execution_count": 9,
      "outputs": [
        {
          "output_type": "display_data",
          "data": {
            "image/png": "[encoded data removed]",
            "text/plain": [
              "<Figure size 2520x720 with 1 Axes>"
            ]
          },
          "metadata": {
            "tags": []
          }
        }
      ]
    },
    {
      "cell_type": "code",
      "metadata": {
        "id": "zyRMfIcvpPNA",
        "colab_type": "code",
        "colab": {}
      },
      "source": [
        "def checker(arr):\n",
        "    count_normals = 0\n",
        "    count_attacks = 0\n",
        "    for i in arr:\n",
        "        if i != 1:\n",
        "            count_normals += 1\n",
        "        if i == 1:\n",
        "            count_attacks += 1 \n",
        "            \n",
        "    #print(\"normals:\", count_normals)\n",
        "    #print(\"attacks:\", count_attacks)\n",
        "            \n",
        "    return count_normals, count_attacks"
      ],
      "execution_count": 0,
      "outputs": []
    },
    {
      "cell_type": "code",
      "metadata": {
        "id": "_1ceZTpUhj0E",
        "colab_type": "code",
        "colab": {}
      },
      "source": [
        "def _toarray(X, Y):\n",
        "    X = X.astype(float)\n",
        "    X = np.asarray(X)\n",
        "    Y = np.asarray(Y)\n",
        "    Y = Y.reshape(-1, 1)\n",
        "    #Y = to_categorical(Y, 2)\n",
        "    scaler = MinMaxScaler()\n",
        "    scaler.fit(X)\n",
        "    X = scaler.transform(X)\n",
        "    return X, Y\n",
        "    \n",
        "def _getData(df):\n",
        "    _all = df\n",
        "    _norm = df.loc[df[' Label'] != 1]\n",
        "    _mal = df.loc[df[' Label'] == 1]\n",
        "    #print(checker(_norm[' Label']))\n",
        "    \n",
        "    l_all = _all[' Label'][:,None]\n",
        "    l_norm = _norm[' Label']\n",
        "    l_mal = _mal[' Label']\n",
        "    _all = _all.drop([' Label'], axis=1)\n",
        "    _mal = _mal.drop([' Label'], axis=1)\n",
        "    _norm = _norm.drop([' Label'], axis=1)\n",
        "    data_all, label_all = _toarray(_all, l_all)\n",
        "    data_mal, label_mal = _toarray(_mal, l_mal)\n",
        "    data_norm, label_norm = _toarray(_norm, l_norm)\n",
        "    \n",
        "    return data_all, label_all, data_mal, label_mal, data_norm, label_norm"
      ],
      "execution_count": 0,
      "outputs": []
    },
    {
      "cell_type": "code",
      "metadata": {
        "id": "_zUScput6ov4",
        "colab_type": "code",
        "colab": {}
      },
      "source": [
        "X_all, Y_all, malicious_data, Y_mal, normal_data, Y_norm = _getData(full_data)"
      ],
      "execution_count": 0,
      "outputs": []
    },
    {
      "cell_type": "code",
      "metadata": {
        "id": "iWX7yc2Eho_2",
        "colab_type": "code",
        "colab": {
          "base_uri": "https://localhost:8080/",
          "height": 34
        },
        "outputId": "c8d2f825-49fd-45c0-c976-bb78ecfb33c4"
      },
      "source": [
        "from sklearn.datasets import make_classification\n",
        "from imblearn.under_sampling import RandomUnderSampler\n",
        "from collections import Counter\n",
        "rus = RandomUnderSampler(random_state=42)\n",
        "X_res, y_res = rus.fit_resample(full_data.iloc[:,:-1], full_data.iloc[:,-1])\n",
        "print('Resampled dataset shape %s' % Counter(y_res))"
      ],
      "execution_count": 16,
      "outputs": [
        {
          "output_type": "stream",
          "text": [
            "Resampled dataset shape Counter({-1: 557646, 1: 557646})\n"
          ],
          "name": "stdout"
        }
      ]
    },
    {
      "cell_type": "code",
      "metadata": {
        "id": "5EpM4iFNiDVf",
        "colab_type": "code",
        "colab": {}
      },
      "source": [
        "from sklearn.utils import shuffle\n",
        "dataframe = pd.DataFrame(X_res)\n",
        "dataframe[' Label'] = y_res \n",
        "dataframe = shuffle(dataframe).reset_index(drop=True)"
      ],
      "execution_count": 0,
      "outputs": []
    },
    {
      "cell_type": "code",
      "metadata": {
        "id": "qwR_xR5me1KD",
        "colab_type": "code",
        "colab": {
          "base_uri": "https://localhost:8080/",
          "height": 377
        },
        "outputId": "dc9a75d9-0278-40a9-b669-9b6b3d4ca239"
      },
      "source": [
        "def plot_attack_category(data):\n",
        "    sns.set(rc={'figure.figsize':(6,6),\"font.size\":50,\"axes.titlesize\":40,\"axes.labelsize\":15},style=\"white\")\n",
        "    catg_plot = sns.countplot(y_res,data = data)\n",
        "    for p in catg_plot.patches:\n",
        "        height = p.get_height()\n",
        "        catg_plot.text(p.get_x()+p.get_width()/2., height + 0.1,height ,ha=\"center\",fontsize = 15)\n",
        "plot_attack_category(df)"
      ],
      "execution_count": 18,
      "outputs": [
        {
          "output_type": "display_data",
          "data": {
            "image/png": "[encoded data removed]",
            "text/plain": [
              "<Figure size 432x432 with 1 Axes>"
            ]
          },
          "metadata": {
            "tags": []
          }
        }
      ]
    },
    {
      "cell_type": "code",
      "metadata": {
        "id": "FC-eSvFG0ZDi",
        "colab_type": "code",
        "colab": {}
      },
      "source": [
        "def _getCV(X, Y):\n",
        "    XTrain = X[:int(0.8*len(X))]\n",
        "    YTrain = Y[:int(0.8*len(Y))]\n",
        "    XTest = X[int(0.8*len(X)):]\n",
        "    YTest = Y[int(0.8*len(X)):]\n",
        "    \n",
        "    return XTrain, YTrain, XTest, YTest"
      ],
      "execution_count": 0,
      "outputs": []
    },
    {
      "cell_type": "code",
      "metadata": {
        "id": "HNy_rE99iLtk",
        "colab_type": "code",
        "colab": {}
      },
      "source": [
        "X_all, Y_all, malicious_samples, Y_mal, normal_samples, Y_norm = _getData(dataframe)\n",
        "malicious_data, normal_data, malicious_validation, normal_validation = _getCV(malicious_samples, normal_samples)\n",
        "n_data = normal_data[int(len(normal_data)/2):]\n",
        "m_data = np.vstack((malicious_data, malicious_data))"
      ],
      "execution_count": 0,
      "outputs": []
    },
    {
      "cell_type": "code",
      "metadata": {
        "id": "JWT_7kfR9Nrv",
        "colab_type": "code",
        "colab": {}
      },
      "source": [
        "mal_norm = np.vstack((m_data, n_data)) \n",
        "labels = np.hstack((np.ones(len(m_data)), -1 * np.ones(len(n_data))))\n",
        "labels = labels.reshape(-1, 1)\n",
        "data = np.hstack((mal_norm, labels))\n",
        "np.random.shuffle(data)"
      ],
      "execution_count": 0,
      "outputs": []
    },
    {
      "cell_type": "code",
      "metadata": {
        "id": "4nai1YhciOOo",
        "colab_type": "code",
        "colab": {
          "base_uri": "https://localhost:8080/",
          "height": 119
        },
        "outputId": "77ce49f0-45b3-4afa-e912-7ff2b2be8785"
      },
      "source": [
        "print(\"Malicious_data\",malicious_samples.shape)\n",
        "print(\"Normal_data\",normal_samples.shape)\n",
        "print(\"Training_Malicious\",malicious_data.shape)\n",
        "print(\"Validation_Malicious\", malicious_validation.shape)\n",
        "print(\"Training_Normal\",normal_data.shape)\n",
        "print(\"Validation_Normal\", normal_validation.shape)"
      ],
      "execution_count": 22,
      "outputs": [
        {
          "output_type": "stream",
          "text": [
            "Malicious_data (557646, 70)\n",
            "Normal_data (557646, 70)\n",
            "Training_Malicious (446116, 70)\n",
            "Validation_Malicious (111530, 70)\n",
            "Training_Normal (446116, 70)\n",
            "Validation_Normal (111530, 70)\n"
          ],
          "name": "stdout"
        }
      ]
    },
    {
      "cell_type": "code",
      "metadata": {
        "id": "zeYXnc1n9OhS",
        "colab_type": "code",
        "colab": {}
      },
      "source": [
        "def _getIDSdata(arr):\n",
        "    data = []\n",
        "    labels = []\n",
        "    for i in range(0, len(arr)):\n",
        "        a = arr[i][:-1]\n",
        "        data.append(a)\n",
        "        \n",
        "        b = arr[i][-1:]\n",
        "        labels.append(b)\n",
        "        \n",
        "    X = np.asarray(data)\n",
        "    y = np.asarray(labels)\n",
        "    return X, y"
      ],
      "execution_count": 0,
      "outputs": []
    },
    {
      "cell_type": "code",
      "metadata": {
        "id": "QttOrbv59UmV",
        "colab_type": "code",
        "colab": {}
      },
      "source": [
        "X, y = _getIDSdata(data)\n",
        "X_train, X_test, y_train,y_test = train_test_split(X, y, test_size=0.2)"
      ],
      "execution_count": 0,
      "outputs": []
    },
    {
      "cell_type": "code",
      "metadata": {
        "id": "H7ON_F-yiXwW",
        "colab_type": "code",
        "colab": {
          "base_uri": "https://localhost:8080/",
          "height": 153
        },
        "outputId": "9d06babe-20c2-4e14-dc7d-c5da30966983"
      },
      "source": [
        "from sklearn.ensemble import ExtraTreesClassifier\n",
        "clf = ExtraTreesClassifier(n_estimators=100, random_state=0)\n",
        "clf.fit(X_train, y_train)"
      ],
      "execution_count": 25,
      "outputs": [
        {
          "output_type": "execute_result",
          "data": {
            "text/plain": [
              "ExtraTreesClassifier(bootstrap=False, ccp_alpha=0.0, class_weight=None,\n",
              "                     criterion='gini', max_depth=None, max_features='auto',\n",
              "                     max_leaf_nodes=None, max_samples=None,\n",
              "                     min_impurity_decrease=0.0, min_impurity_split=None,\n",
              "                     min_samples_leaf=1, min_samples_split=2,\n",
              "                     min_weight_fraction_leaf=0.0, n_estimators=100,\n",
              "                     n_jobs=None, oob_score=False, random_state=0, verbose=0,\n",
              "                     warm_start=False)"
            ]
          },
          "metadata": {
            "tags": []
          },
          "execution_count": 25
        }
      ]
    },
    {
      "cell_type": "code",
      "metadata": {
        "id": "6XZnmIeHiaDK",
        "colab_type": "code",
        "colab": {
          "base_uri": "https://localhost:8080/",
          "height": 85
        },
        "outputId": "96e81768-85d1-49a6-dbb4-edff594e1a53"
      },
      "source": [
        "from sklearn.metrics import f1_score\n",
        "from sklearn.metrics import mean_squared_error, mean_absolute_error\n",
        "mal_pred = clf.predict(malicious_data)\n",
        "print(\"F1 Score Malcious Data: \", f1_score(np.ones_like(mal_pred), mal_pred, average='micro'))\n",
        "print(\"MSE Malcious Data: \", mean_squared_error(np.ones_like(mal_pred), mal_pred))\n",
        "norm_pred = clf.predict(normal_data)\n",
        "print(\"F1 Score Normal Data: \", f1_score(-1*np.ones_like(norm_pred), norm_pred, average='micro'))\n",
        "print(\"MSE Normal Data: \", mean_squared_error(-1*np.ones_like(norm_pred), norm_pred))"
      ],
      "execution_count": 41,
      "outputs": [
        {
          "output_type": "stream",
          "text": [
            "F1 Score Malcious Data:  1.0\n",
            "MSE Malcious Data:  0.0\n",
            "F1 Score Normal Data:  0.9999977584305427\n",
            "MSE Normal Data:  8.966277829084812e-06\n"
          ],
          "name": "stdout"
        }
      ]
    },
    {
      "cell_type": "code",
      "metadata": {
        "id": "feCUmxCgiqjF",
        "colab_type": "code",
        "colab": {}
      },
      "source": [
        "def _generator(input=(70,)):\n",
        "    model = tf.keras.Sequential()\n",
        "    model.add(layers.Dense(32, input_shape=(70,)))\n",
        "    model.add(layers.BatchNormalization(momentum=0.8))\n",
        "    #model.add(layers.Activation('relu'))\n",
        "    #model.add(layers.LeakyReLU(0.2))\n",
        "    \n",
        "    model.add(layers.Dense(64))\n",
        "    model.add(layers.BatchNormalization(momentum=0.8))\n",
        "    #model.add(layers.Activation('relu'))\n",
        "    #model.add(layers.LeakyReLU(0.2))\n",
        "    \n",
        "    model.add(layers.Dense(128))\n",
        "    model.add(layers.BatchNormalization(momentum=0.8))\n",
        "    #model.add(layers.Activation('relu'))\n",
        "    #model.add(layers.LeakyReLU(0.2))\n",
        "    \n",
        "    model.add(layers.Dense(256))\n",
        "    model.add(layers.BatchNormalization(momentum=0.8))\n",
        "    #model.add(layers.Activation('relu'))\n",
        "    #model.add(layers.LeakyReLU(0.2))\n",
        "    \n",
        "    model.add(layers.Dense(np.prod(70,)))\n",
        "    #model.add(layers.Activation('sigmoid'))\n",
        "    \n",
        "    model.summary()\n",
        "    \n",
        "    return model"
      ],
      "execution_count": 0,
      "outputs": []
    },
    {
      "cell_type": "code",
      "metadata": {
        "id": "HybE1Jfiit6L",
        "colab_type": "code",
        "colab": {
          "base_uri": "https://localhost:8080/",
          "height": 459
        },
        "outputId": "be2d5629-d699-458d-fce0-9828c91c9e63"
      },
      "source": [
        "g = _generator()"
      ],
      "execution_count": 28,
      "outputs": [
        {
          "output_type": "stream",
          "text": [
            "Model: \"sequential\"\n",
            "_________________________________________________________________\n",
            "Layer (type)                 Output Shape              Param #   \n",
            "=================================================================\n",
            "dense (Dense)                (None, 32)                2272      \n",
            "_________________________________________________________________\n",
            "batch_normalization (BatchNo (None, 32)                128       \n",
            "_________________________________________________________________\n",
            "dense_1 (Dense)              (None, 64)                2112      \n",
            "_________________________________________________________________\n",
            "batch_normalization_1 (Batch (None, 64)                256       \n",
            "_________________________________________________________________\n",
            "dense_2 (Dense)              (None, 128)               8320      \n",
            "_________________________________________________________________\n",
            "batch_normalization_2 (Batch (None, 128)               512       \n",
            "_________________________________________________________________\n",
            "dense_3 (Dense)              (None, 256)               33024     \n",
            "_________________________________________________________________\n",
            "batch_normalization_3 (Batch (None, 256)               1024      \n",
            "_________________________________________________________________\n",
            "dense_4 (Dense)              (None, 70)                17990     \n",
            "=================================================================\n",
            "Total params: 65,638\n",
            "Trainable params: 64,678\n",
            "Non-trainable params: 960\n",
            "_________________________________________________________________\n"
          ],
          "name": "stdout"
        }
      ]
    },
    {
      "cell_type": "code",
      "metadata": {
        "id": "vCpW0IPCiweu",
        "colab_type": "code",
        "colab": {}
      },
      "source": [
        "def _discriminator():\n",
        "    model = tf.keras.Sequential()\n",
        "    model.add(layers.Dense(128, input_shape=(70, )))\n",
        "    model.add(layers.BatchNormalization(momentum=0.8))\n",
        "    model.add(layers.Activation('relu'))\n",
        "    #model.add(layers.LeakyReLU(0.2))\n",
        "    \n",
        "    model.add(layers.Dense(128))\n",
        "    model.add(layers.BatchNormalization(momentum=0.8))\n",
        "    model.add(layers.Activation('relu'))\n",
        "    #model.add(layers.LeakyReLU(0.2))\n",
        "    \n",
        "    model.add(layers.Dense(64))\n",
        "    model.add(layers.BatchNormalization(momentum=0.8))\n",
        "    model.add(layers.Activation('relu'))\n",
        "    #model.add(layers.LeakyReLU(0.2))\n",
        "    \n",
        "    model.add(layers.Dense(1))\n",
        "    \n",
        "    model.summary()\n",
        "    \n",
        "    return model"
      ],
      "execution_count": 0,
      "outputs": []
    },
    {
      "cell_type": "code",
      "metadata": {
        "id": "quU3VaJ5iyWN",
        "colab_type": "code",
        "colab": {
          "base_uri": "https://localhost:8080/",
          "height": 493
        },
        "outputId": "64fa4870-16b8-4ef7-8665-cf6eba55166b"
      },
      "source": [
        "d = _discriminator()"
      ],
      "execution_count": 30,
      "outputs": [
        {
          "output_type": "stream",
          "text": [
            "Model: \"sequential_1\"\n",
            "_________________________________________________________________\n",
            "Layer (type)                 Output Shape              Param #   \n",
            "=================================================================\n",
            "dense_5 (Dense)              (None, 128)               9088      \n",
            "_________________________________________________________________\n",
            "batch_normalization_4 (Batch (None, 128)               512       \n",
            "_________________________________________________________________\n",
            "activation (Activation)      (None, 128)               0         \n",
            "_________________________________________________________________\n",
            "dense_6 (Dense)              (None, 128)               16512     \n",
            "_________________________________________________________________\n",
            "batch_normalization_5 (Batch (None, 128)               512       \n",
            "_________________________________________________________________\n",
            "activation_1 (Activation)    (None, 128)               0         \n",
            "_________________________________________________________________\n",
            "dense_7 (Dense)              (None, 64)                8256      \n",
            "_________________________________________________________________\n",
            "batch_normalization_6 (Batch (None, 64)                256       \n",
            "_________________________________________________________________\n",
            "activation_2 (Activation)    (None, 64)                0         \n",
            "_________________________________________________________________\n",
            "dense_8 (Dense)              (None, 1)                 65        \n",
            "=================================================================\n",
            "Total params: 35,201\n",
            "Trainable params: 34,561\n",
            "Non-trainable params: 640\n",
            "_________________________________________________________________\n"
          ],
          "name": "stdout"
        }
      ]
    },
    {
      "cell_type": "code",
      "metadata": {
        "id": "EvKhI5v7i1dU",
        "colab_type": "code",
        "colab": {}
      },
      "source": [
        "def get_batch(data, batch_size):\n",
        "    indices = np.random.randint(low=0, high=len(data), size=batch_size)\n",
        "    np.random.shuffle(indices)\n",
        "    batch_data = data[indices]\n",
        "    return batch_data"
      ],
      "execution_count": 0,
      "outputs": []
    },
    {
      "cell_type": "code",
      "metadata": {
        "id": "XD2Fn_Tvi3xu",
        "colab_type": "code",
        "colab": {}
      },
      "source": [
        "def generate_latent_points(latent_dim, n):\n",
        "    x_input = np.random.randn(latent_dim * n)\n",
        "    x_input = x_input.reshape(n, latent_dim)\n",
        "    return x_input"
      ],
      "execution_count": 0,
      "outputs": []
    },
    {
      "cell_type": "code",
      "metadata": {
        "id": "6EQRbJZsLCj1",
        "colab_type": "code",
        "colab": {}
      },
      "source": [
        "def _getPredictedNormalAttack(arr):\n",
        "    n = []\n",
        "    a = []\n",
        "    for i in range(0, len(arr)):\n",
        "        if arr[i][-1:] == -1:\n",
        "            n.append(arr[i][:-1])\n",
        "        if arr[i][-1:] == 1:\n",
        "            a.append(arr[i][:-1])\n",
        "            \n",
        "    normal = np.asarray(n)\n",
        "    attack = np.asarray(a)\n",
        "\n",
        "    return normal, attack"
      ],
      "execution_count": 0,
      "outputs": []
    },
    {
      "cell_type": "code",
      "metadata": {
        "id": "Zc-Dj45MjCR0",
        "colab_type": "code",
        "colab": {}
      },
      "source": [
        "def ids_compute(ids_classifer, ids_samples, batch_size):\n",
        "    a = tf.make_tensor_proto(ids_samples)\n",
        "    ids_samples = tf.make_ndarray(a)\n",
        "    #print(ids_samples.shape)\n",
        "    ids_preds = ids_classifer.predict(ids_samples)  \n",
        "    _, _ = checker(ids_preds)\n",
        "    #print(ids_preds.shape)\n",
        "    mse = mean_squared_error(np.hstack([np.ones(int(len(ids_preds)/2)), -1*np.ones(int(len(ids_preds)/2))]), ids_preds)\n",
        "    ids_preds = ids_preds.reshape(-1, 1)\n",
        "    ids_stack = np.hstack((ids_samples, ids_preds))\n",
        "    #print(ids_stack.shape)\n",
        "    ids_normal, ids_attack = _getPredictedNormalAttack(ids_stack)\n",
        "    #print(\"Predicted Normals: \", ids_normal.shape[0])\n",
        "    #print(\"Predicted Attacks:\", ids_attack.shape[0])\n",
        "    predicted_attacks = ids_preds[:int(len(ids_preds)/2)]\n",
        "    #print(\"Predicted Attacks:\", predicted_attacks)\n",
        "    predicted_normals = ids_preds[int(len(ids_preds)/2):]\n",
        "    #print(\"Predicted Normal:\", predicted_normals)\n",
        "    ids_normal = tf.convert_to_tensor(ids_normal, float)\n",
        "    ids_attack = tf.convert_to_tensor(ids_attack, float)\n",
        "    ids_samples = tf.convert_to_tensor(ids_samples, float)\n",
        "    predicted_attacks = tf.convert_to_tensor(predicted_attacks, float)\n",
        "    predicted_normals = tf.convert_to_tensor(predicted_normals, float)\n",
        "    \n",
        "\n",
        "    return ids_samples, ids_normal, ids_attack, predicted_normals, predicted_attacks, mse"
      ],
      "execution_count": 0,
      "outputs": []
    },
    {
      "cell_type": "code",
      "metadata": {
        "id": "2W_rnoltqPEg",
        "colab_type": "code",
        "colab": {}
      },
      "source": [
        "def _setTheshold(arr):\n",
        "    a = tf.where(tf.less(arr, 0.0), 0, arr) \n",
        "    arr = tf.where(tf.greater(a, 1.0), 1, a)\n",
        "  \n",
        "    return arr"
      ],
      "execution_count": 0,
      "outputs": []
    },
    {
      "cell_type": "code",
      "metadata": {
        "id": "q9__Dvosi88a",
        "colab_type": "code",
        "colab": {}
      },
      "source": [
        "#cross_entropy = tf.keras.losses.BinaryCrossentropy(from_logits=True)\n",
        "def generator_loss(d_generated):\n",
        "    return tf.reduce_mean(d_generated) * 1"
      ],
      "execution_count": 0,
      "outputs": []
    },
    {
      "cell_type": "code",
      "metadata": {
        "id": "I7xSzJvRi6Z7",
        "colab_type": "code",
        "colab": {}
      },
      "source": [
        "def discriminator_loss(d_normal, d_generated, predicted_attacks, predicted_normals):\n",
        "    return tf.math.subtract(tf.reduce_mean(predicted_attacks * d_generated), \n",
        "                            (tf.reduce_mean(predicted_normals * d_normal)))"
      ],
      "execution_count": 0,
      "outputs": []
    },
    {
      "cell_type": "code",
      "metadata": {
        "id": "l-PC0OD8iQYv",
        "colab_type": "code",
        "colab": {}
      },
      "source": [
        "def plot_loss(losses):\n",
        "    labels = ['Discriminator', 'Generator', 'IDS-Classifier']\n",
        "    losses = np.array(losses)    \n",
        "    \n",
        "    fig, ax = plt.subplots()\n",
        "    plt.plot(losses.T[0], label='Discriminator')\n",
        "    plt.plot(losses.T[1], label='Generator')\n",
        "    plt.plot(losses.T[2], label='IDS-Classifier')\n",
        "    plt.title(\"Training Losses\")\n",
        "    plt.legend()\n",
        "    plt.savefig(\"Loss_Plot.png\")\n",
        "    plt.show()"
      ],
      "execution_count": 0,
      "outputs": []
    },
    {
      "cell_type": "code",
      "metadata": {
        "id": "ici-CryFjI5S",
        "colab_type": "code",
        "colab": {
          "base_uri": "https://localhost:8080/",
          "height": 1000
        },
        "outputId": "7b560f8c-1760-4b02-f055-7aa14d6bc4eb"
      },
      "source": [
        "def train(epochs=30, batch_size=1000, functional_features=functional_features,\n",
        "          nonFunctional_features=nonFunctional_features):\n",
        "    \n",
        "    losses = []\n",
        "    ids, generator, discriminator = clf, g, d\n",
        "    noise = generate_latent_points(70, batch_size)\n",
        "\n",
        "    generator_optimizer = tf.keras.optimizers.RMSprop(6e-6) \n",
        "    discriminator_optimizer = tf.keras.optimizers.RMSprop(6e-6) \n",
        "    \n",
        "    for e in range(epochs):\n",
        "        for i in range(int(normal_data.shape[0]/batch_size)):\n",
        "            normal_samples = get_batch(normal_data, batch_size=batch_size)\n",
        "            malicious_samples = get_batch(malicious_data, batch_size=batch_size)\n",
        "            generator_in = malicious_samples + noise\n",
        "            #generator_in = noise\n",
        "                        \n",
        "            normal_samples = tf.convert_to_tensor(normal_samples, float)\n",
        "            malicious_samples = tf.convert_to_tensor(malicious_samples, float)\n",
        "            functional_features = tf.convert_to_tensor(functional_features, float)\n",
        "            nonFunctional_features = tf.convert_to_tensor(nonFunctional_features, float)\n",
        "            generator_in = tf.convert_to_tensor(generator_in, float)\n",
        "\n",
        "\n",
        "            \n",
        "            with tf.GradientTape() as gTape, tf.GradientTape() as dTape:\n",
        "                generated_maliciousSamples = tf.math.add(tf.math.multiply(malicious_samples, \n",
        "                                                                          functional_features), \n",
        "                                                         _setTheshold(tf.math.multiply(generator(generator_in), \n",
        "                                                                     nonFunctional_features)))\n",
        "                \n",
        "                #print(generated_maliciousSamples)\n",
        "            \n",
        "                ids_samples = tf.concat([generated_maliciousSamples, normal_samples], 0)\n",
        "                #print(ids_samples.shape)\n",
        "#                 ids_samples = tf.Session().run(ids_samples)\n",
        "#                 ids_predictions = ids.predict(ids_samples)\n",
        "                _, ids_normal, ids_attack, predicted_normals, predicted_attacks, ids_loss = ids_compute(ids, ids_samples, \n",
        "                                                                                  batch_size=batch_size)\n",
        "                #print(ids_predictedAttacks.shape)\n",
        "                #print(\"ids loss:\", ids_loss)\n",
        "                     \n",
        "                d_normal = discriminator(normal_samples)\n",
        "                d_gAttack = discriminator(generated_maliciousSamples)\n",
        "                \n",
        "             \n",
        "                \n",
        "                #d_loss = tf.math.subtract(tf.reduce_mean(d_normal), tf.reduce_mean(d_gAttack))\n",
        "                d_loss = discriminator_loss(d_normal, d_gAttack, predicted_attacks, predicted_normals)\n",
        "                #print(\"dloss:\", d_loss)\n",
        "\n",
        "                d_gSamples = discriminator(generated_maliciousSamples)\n",
        "            \n",
        "                g_loss = generator_loss(d_gSamples)\n",
        "                #print(\"gloss:\", g_loss)\n",
        "    \n",
        "            gGradients = gTape.gradient(g_loss, generator.trainable_variables)\n",
        "            dGradients = dTape.gradient(d_loss, discriminator.trainable_variables)\n",
        "\n",
        "            generator_optimizer.apply_gradients(zip(gGradients, generator.trainable_variables))\n",
        "            discriminator_optimizer.apply_gradients(zip(dGradients, discriminator.trainable_variables))\n",
        "            losses.append((d_loss, g_loss, ids_loss))\n",
        "\n",
        "        print(\"Epoch:{:>3}/{} Discriminator Loss:{:>7.4f} Generator Loss:{:>7.4f} IDS Loss:{:>7.4f}\".format(\n",
        "            e+1, epochs, d_loss, g_loss, ids_loss)) \n",
        "        print('Normal Samples:', ids_normal.shape)\n",
        "        print('Attack Samples:', ids_attack.shape)\n",
        "    \n",
        "    plot_loss(losses)\n",
        "\n",
        "    return generator\n",
        "gen = train()"
      ],
      "execution_count": 39,
      "outputs": [
        {
          "output_type": "stream",
          "text": [
            "Epoch:  1/30 Discriminator Loss:-0.9185 Generator Loss:-0.8158 IDS Loss: 0.1660\n",
            "Normal Samples: (1083, 70)\n",
            "Attack Samples: (917, 70)\n",
            "Epoch:  2/30 Discriminator Loss:-1.7233 Generator Loss:-2.2188 IDS Loss: 0.4340\n",
            "Normal Samples: (1217, 70)\n",
            "Attack Samples: (783, 70)\n",
            "Epoch:  3/30 Discriminator Loss:-1.1739 Generator Loss:-4.0423 IDS Loss: 0.8340\n",
            "Normal Samples: (1417, 70)\n",
            "Attack Samples: (583, 70)\n",
            "Epoch:  4/30 Discriminator Loss:-0.3720 Generator Loss:-4.3734 IDS Loss: 1.1360\n",
            "Normal Samples: (1568, 70)\n",
            "Attack Samples: (432, 70)\n",
            "Epoch:  5/30 Discriminator Loss:-1.4396 Generator Loss:-4.1903 IDS Loss: 1.0640\n",
            "Normal Samples: (1532, 70)\n",
            "Attack Samples: (468, 70)\n",
            "Epoch:  6/30 Discriminator Loss:-5.2615 Generator Loss:-6.8117 IDS Loss: 0.6640\n",
            "Normal Samples: (1332, 70)\n",
            "Attack Samples: (668, 70)\n",
            "Epoch:  7/30 Discriminator Loss:-10.1744 Generator Loss:-11.0513 IDS Loss: 0.4900\n",
            "Normal Samples: (1245, 70)\n",
            "Attack Samples: (755, 70)\n",
            "Epoch:  8/30 Discriminator Loss:-16.4640 Generator Loss:-16.9835 IDS Loss: 0.3920\n",
            "Normal Samples: (1196, 70)\n",
            "Attack Samples: (804, 70)\n",
            "Epoch:  9/30 Discriminator Loss:-23.2806 Generator Loss:-25.0021 IDS Loss: 0.3840\n",
            "Normal Samples: (1192, 70)\n",
            "Attack Samples: (808, 70)\n",
            "Epoch: 10/30 Discriminator Loss:-23.0831 Generator Loss:-35.7862 IDS Loss: 0.6080\n",
            "Normal Samples: (1304, 70)\n",
            "Attack Samples: (696, 70)\n",
            "Epoch: 11/30 Discriminator Loss:-11.2277 Generator Loss:-49.4655 IDS Loss: 0.9880\n",
            "Normal Samples: (1494, 70)\n",
            "Attack Samples: (506, 70)\n",
            "Epoch: 12/30 Discriminator Loss:11.9091 Generator Loss:-41.7837 IDS Loss: 1.5280\n",
            "Normal Samples: (1764, 70)\n",
            "Attack Samples: (236, 70)\n",
            "Epoch: 13/30 Discriminator Loss:15.4757 Generator Loss:-30.4183 IDS Loss: 1.8360\n",
            "Normal Samples: (1918, 70)\n",
            "Attack Samples: (82, 70)\n",
            "Epoch: 14/30 Discriminator Loss:10.3678 Generator Loss:-21.1224 IDS Loss: 1.9400\n",
            "Normal Samples: (1970, 70)\n",
            "Attack Samples: (30, 70)\n",
            "Epoch: 15/30 Discriminator Loss: 3.9755 Generator Loss:-13.6531 IDS Loss: 1.9520\n",
            "Normal Samples: (1976, 70)\n",
            "Attack Samples: (24, 70)\n",
            "Epoch: 16/30 Discriminator Loss:-1.0334 Generator Loss:-8.3910 IDS Loss: 1.9580\n",
            "Normal Samples: (1979, 70)\n",
            "Attack Samples: (21, 70)\n",
            "Epoch: 17/30 Discriminator Loss:-4.8035 Generator Loss:-5.1126 IDS Loss: 1.9600\n",
            "Normal Samples: (1980, 70)\n",
            "Attack Samples: (20, 70)\n",
            "Epoch: 18/30 Discriminator Loss:-6.9064 Generator Loss:-4.3014 IDS Loss: 1.9580\n",
            "Normal Samples: (1979, 70)\n",
            "Attack Samples: (21, 70)\n",
            "Epoch: 19/30 Discriminator Loss:-7.4864 Generator Loss:-5.2284 IDS Loss: 1.9500\n",
            "Normal Samples: (1975, 70)\n",
            "Attack Samples: (25, 70)\n",
            "Epoch: 20/30 Discriminator Loss:-7.8456 Generator Loss:-6.5312 IDS Loss: 1.8720\n",
            "Normal Samples: (1936, 70)\n",
            "Attack Samples: (64, 70)\n",
            "Epoch: 21/30 Discriminator Loss:-8.2745 Generator Loss:-7.7345 IDS Loss: 1.8560\n",
            "Normal Samples: (1928, 70)\n",
            "Attack Samples: (72, 70)\n",
            "Epoch: 22/30 Discriminator Loss:-8.6779 Generator Loss:-9.2713 IDS Loss: 1.8840\n",
            "Normal Samples: (1942, 70)\n",
            "Attack Samples: (58, 70)\n",
            "Epoch: 23/30 Discriminator Loss:-8.8786 Generator Loss:-11.2167 IDS Loss: 1.9040\n",
            "Normal Samples: (1952, 70)\n",
            "Attack Samples: (48, 70)\n",
            "Epoch: 24/30 Discriminator Loss:-9.8209 Generator Loss:-12.6762 IDS Loss: 1.9280\n",
            "Normal Samples: (1964, 70)\n",
            "Attack Samples: (36, 70)\n",
            "Epoch: 25/30 Discriminator Loss:-12.3499 Generator Loss:-12.5222 IDS Loss: 1.9700\n",
            "Normal Samples: (1985, 70)\n",
            "Attack Samples: (15, 70)\n",
            "Epoch: 26/30 Discriminator Loss:-14.1442 Generator Loss:-13.2089 IDS Loss: 1.9900\n",
            "Normal Samples: (1995, 70)\n",
            "Attack Samples: (5, 70)\n",
            "Epoch: 27/30 Discriminator Loss:-12.6409 Generator Loss:-18.4321 IDS Loss: 1.9940\n",
            "Normal Samples: (1997, 70)\n",
            "Attack Samples: (3, 70)\n",
            "Epoch: 28/30 Discriminator Loss:-11.4818 Generator Loss:-24.5666 IDS Loss: 1.9980\n",
            "Normal Samples: (1999, 70)\n",
            "Attack Samples: (1, 70)\n",
            "Epoch: 29/30 Discriminator Loss:-14.3270 Generator Loss:-27.9780 IDS Loss: 1.9980\n",
            "Normal Samples: (1999, 70)\n",
            "Attack Samples: (1, 70)\n",
            "Epoch: 30/30 Discriminator Loss:-16.7969 Generator Loss:-31.9584 IDS Loss: 1.9980\n",
            "Normal Samples: (1999, 70)\n",
            "Attack Samples: (1, 70)\n"
          ],
          "name": "stdout"
        },
        {
          "output_type": "display_data",
          "data": {
            "image/png": "[encoded data removed]",
            "text/plain": [
              "<Figure size 432x432 with 1 Axes>"
            ]
          },
          "metadata": {
            "tags": []
          }
        }
      ]
    },
    {
      "cell_type": "code",
      "metadata": {
        "id": "jZ8jx3t57zAC",
        "colab_type": "code",
        "colab": {
          "base_uri": "https://localhost:8080/",
          "height": 527
        },
        "outputId": "86511644-a678-4b6b-f6eb-2ea65587fbc7"
      },
      "source": [
        "def _map(arr):\n",
        "    outs = []\n",
        "    for i in range(0, len(arr)):\n",
        "        if arr[i] == 1:\n",
        "            outs.append('MALICIOUS ATTACK!!')\n",
        "        if arr[i] == -1:\n",
        "            outs.append('NORMAL DATA')\n",
        "    outs = np.asarray(outs)\n",
        "    outs = outs.reshape(-1, 1)\n",
        "    \n",
        "    return outs\n",
        "\n",
        "def _CV(generator=gen, ids=clf, \n",
        "        CV_attack=malicious_validation, \n",
        "        functional_features=functional_features, \n",
        "        nonFunctional_features=nonFunctional_features):\n",
        "    \n",
        "    attack_preds = ids.predict(CV_attack)\n",
        "    mse_attack = mean_absolute_error(np.ones(len(attack_preds)), attack_preds)\n",
        "    \n",
        "    advAttacks = np.add(np.multiply(CV_attack, functional_features), \n",
        "                        (np.multiply(gen(CV_attack), nonFunctional_features)))\n",
        "    \n",
        "    advAttacks_preds = ids.predict(advAttacks)\n",
        "    mse_advAttacks = mean_absolute_error(np.ones(len(advAttacks_preds)), advAttacks_preds)\n",
        "    \n",
        "    print(\"Few Original Malicious attacks Samples as Predicted by the IDS: \", '\\n', 65*'-', '\\n',\n",
        "         _map(attack_preds[-10:]), '\\n',  65*'-', '\\n', \"Detection System MSE: \", mse_attack)\n",
        "    print('\\n')\n",
        "    print(\"Converted Adversial Samples as Predicted by the IDS:\", '\\n', 65*'-', '\\n',\n",
        "         _map(advAttacks_preds[-10:]), '\\n', 65*'-', '\\n', \"Detection System MSE: \", mse_advAttacks)\n",
        "    \n",
        "_CV()"
      ],
      "execution_count": 44,
      "outputs": [
        {
          "output_type": "stream",
          "text": [
            "Few Original Malicious attacks Samples as Predicted by the IDS:  \n",
            " ----------------------------------------------------------------- \n",
            " [['MALICIOUS ATTACK!!']\n",
            " ['MALICIOUS ATTACK!!']\n",
            " ['MALICIOUS ATTACK!!']\n",
            " ['MALICIOUS ATTACK!!']\n",
            " ['MALICIOUS ATTACK!!']\n",
            " ['MALICIOUS ATTACK!!']\n",
            " ['MALICIOUS ATTACK!!']\n",
            " ['MALICIOUS ATTACK!!']\n",
            " ['MALICIOUS ATTACK!!']\n",
            " ['MALICIOUS ATTACK!!']] \n",
            " ----------------------------------------------------------------- \n",
            " Detection System MSE:  0.0\n",
            "\n",
            "\n",
            "Converted Adversial Samples as Predicted by the IDS: \n",
            " ----------------------------------------------------------------- \n",
            " [['NORMAL DATA']\n",
            " ['NORMAL DATA']\n",
            " ['NORMAL DATA']\n",
            " ['NORMAL DATA']\n",
            " ['NORMAL DATA']\n",
            " ['NORMAL DATA']\n",
            " ['NORMAL DATA']\n",
            " ['NORMAL DATA']\n",
            " ['NORMAL DATA']\n",
            " ['NORMAL DATA']] \n",
            " ----------------------------------------------------------------- \n",
            " Detection System MSE:  2.0\n"
          ],
          "name": "stdout"
        }
      ]
    },
    {
      "cell_type": "code",
      "metadata": {
        "id": "sRli_WVO8RZf",
        "colab_type": "code",
        "colab": {}
      },
      "source": [
        ""
      ],
      "execution_count": 0,
      "outputs": []
    }
  ]
}